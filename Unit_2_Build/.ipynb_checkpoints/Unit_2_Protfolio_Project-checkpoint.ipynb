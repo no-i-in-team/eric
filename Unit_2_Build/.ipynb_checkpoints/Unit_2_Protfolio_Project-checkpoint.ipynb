{
 "cells": [
  {
   "cell_type": "markdown",
   "metadata": {},
   "source": [
    "# Car Sale Price Predictor"
   ]
  },
  {
   "cell_type": "markdown",
   "metadata": {},
   "source": [
    "# Imports!"
   ]
  },
  {
   "cell_type": "code",
   "execution_count": 88,
   "metadata": {},
   "outputs": [],
   "source": [
    "import pandas as pd\n",
    "import numpy as np\n",
    "import matplotlib.pyplot as plt\n",
    "import seaborn as sns\n",
    "from sklearn.linear_model import LinearRegression, Ridge\n",
    "from sklearn.pipeline import make_pipeline\n",
    "from category_encoders import OneHotEncoder, OrdinalEncoder\n",
    "from sklearn.model_selection import train_test_split, GridSearchCV, RandomizedSearchCV\n",
    "from sklearn.impute import SimpleImputer\n",
    "from sklearn.preprocessing import StandardScaler, LabelEncoder\n",
    "from sklearn.metrics import mean_absolute_error, mean_squared_error, r2_score\n",
    "from sklearn.ensemble import RandomForestRegressor, GradientBoostingRegressor"
   ]
  },
  {
   "cell_type": "markdown",
   "metadata": {},
   "source": [
    "# Wrangle Data \n",
    "- Here I will define a function named `wrangle` to ensure reproducibility, and to streamline the data cleaning process."
   ]
  },
  {
   "cell_type": "code",
   "execution_count": 89,
   "metadata": {},
   "outputs": [],
   "source": [
    "# Wrangle function\n",
    "def wrangle(filepath):\n",
    "    # read in dataframe\n",
    "    X = pd.read_csv(filepath)\n",
    "    # drop unnecessary columns\n",
    "    X.drop(columns='Market Category', axis=1, inplace=True)\n",
    "    # drop columns with '0' sale_price\n",
    "    X.drop(X[X['MSRP']==0].index, inplace=True)\n",
    "    # remove outliers\n",
    "    X.drop(X[X[\"MSRP\"] >= 500000].index, inplace=True)\n",
    "    # clean column names\n",
    "    X.rename(columns={\"Make\": \"make\",\n",
    "                      \"Model\": \"model\",\n",
    "                      \"Year\": \"year\",\n",
    "                      \"Engine Fuel Type\": \"fuel_type\",\n",
    "                      \"Engine HP\": \"horsepower\",\n",
    "                      \"Engine Cylinders\": \"cylinders\",\n",
    "                      \"Transmission_Type\": \"transmission\",\n",
    "                      \"Driven_Wheels\": \"drive_type\",\n",
    "                      \"Number of Doors\": \"doors\",\n",
    "                      \"Vehicle Size\": \"size\",\n",
    "                      \"Vehicle Style\": \"body_style\",\n",
    "                      \"highway MPG\": \"mpg_h\",\n",
    "                      \"city mpg\": \"mpg_c\",\n",
    "                      \"Popularity\": \"popularity\",\n",
    "                      \"MSRP\": \"sale_price\"}, inplace=True)\n",
    "    # create feature for age of car\n",
    "    X['vehicle_age'] = 2017 - X['year']\n",
    "    # drop duplicate observations\n",
    "    X.drop_duplicates(keep=False, inplace=True)\n",
    "    # Drop observations with `NaN` values\n",
    "    X = X.dropna()\n",
    "    # Type casting `strings` to `category`\n",
    "    cat_col = [col for col in X.select_dtypes('object').columns]\n",
    "    X[cat_col] = X[cat_col].astype('category')\n",
    "    return X\n",
    "# setting filepath to dataframe\n",
    "filepath = 'CSV/cars.csv'\n",
    "# apply wrangle function to dataset\n",
    "cars = wrangle(filepath)\n"
   ]
  },
  {
   "cell_type": "code",
   "execution_count": 90,
   "metadata": {
    "scrolled": false
   },
   "outputs": [
    {
     "name": "stdout",
     "output_type": "stream",
     "text": [
      "<class 'pandas.core.frame.DataFrame'>\n",
      "Int64Index: 10460 entries, 0 to 11913\n",
      "Data columns (total 16 columns):\n",
      " #   Column             Non-Null Count  Dtype   \n",
      "---  ------             --------------  -----   \n",
      " 0   make               10460 non-null  category\n",
      " 1   model              10460 non-null  category\n",
      " 2   year               10460 non-null  int64   \n",
      " 3   fuel_type          10460 non-null  category\n",
      " 4   horsepower         10460 non-null  float64 \n",
      " 5   cylinders          10460 non-null  float64 \n",
      " 6   Transmission Type  10460 non-null  category\n",
      " 7   drive_type         10460 non-null  category\n",
      " 8   doors              10460 non-null  float64 \n",
      " 9   size               10460 non-null  category\n",
      " 10  body_style         10460 non-null  category\n",
      " 11  mpg_h              10460 non-null  int64   \n",
      " 12  mpg_c              10460 non-null  int64   \n",
      " 13  popularity         10460 non-null  int64   \n",
      " 14  sale_price         10460 non-null  int64   \n",
      " 15  vehicle_age        10460 non-null  int64   \n",
      "dtypes: category(7), float64(3), int64(6)\n",
      "memory usage: 941.1 KB\n"
     ]
    }
   ],
   "source": [
    "# confirm functionality of wrangle function\n",
    "cars.info()"
   ]
  },
  {
   "cell_type": "markdown",
   "metadata": {},
   "source": [
    "# Split Data\n",
    "- Here I will separate my feature matrix from my target vector"
   ]
  },
  {
   "cell_type": "code",
   "execution_count": 91,
   "metadata": {
    "scrolled": true
   },
   "outputs": [
    {
     "name": "stdout",
     "output_type": "stream",
     "text": [
      "Feature Matrix Shape: (10460, 15)\n",
      "Target Vector Shape: (10460,)\n"
     ]
    }
   ],
   "source": [
    "# Separating `Feature Matrix` from `Target Vector` \n",
    "target = 'sale_price'\n",
    "y = cars[target]\n",
    "X = cars.drop(columns=target)\n",
    "# Verifying shape `Feature Matrix` and `Target Vector`\n",
    "print(f'Feature Matrix Shape: {X.shape}')\n",
    "print(f'Target Vector Shape: {y.shape}')\n",
    "# Applying training/validation split to `FM` and `TV`\n",
    "X_train, X_test, y_train, y_test = train_test_split(X, y,\n",
    "                                                  test_size=0.2,\n",
    "                                                  random_state=42)"
   ]
  },
  {
   "cell_type": "markdown",
   "metadata": {},
   "source": [
    "# Establish Baseline\n",
    "- Being that `sale_price` is my target I will use the mean `sale_price` to establish my baseline."
   ]
  },
  {
   "cell_type": "code",
   "execution_count": 92,
   "metadata": {},
   "outputs": [
    {
     "name": "stdout",
     "output_type": "stream",
     "text": [
      "Baseline MAE: 26132.23108724304\n"
     ]
    }
   ],
   "source": [
    "# Establish baseline \n",
    "mean_sale_price = y_train.mean()\n",
    "y_pred = [mean_sale_price] * len(y_train)\n",
    "# Baseline MAE\n",
    "baseline_mae = mean_absolute_error(y_train, y_pred)\n",
    "print(f'Baseline MAE: {baseline_mae}')"
   ]
  },
  {
   "cell_type": "markdown",
   "metadata": {},
   "source": [
    "# Build Models\n"
   ]
  },
  {
   "cell_type": "code",
   "execution_count": 93,
   "metadata": {},
   "outputs": [
    {
     "name": "stderr",
     "output_type": "stream",
     "text": [
      "/Users/eric/anaconda3/envs/unit2/lib/python3.8/site-packages/category_encoders/utils.py:21: FutureWarning: is_categorical is deprecated and will be removed in a future version.  Use is_categorical_dtype instead\n",
      "  elif pd.api.types.is_categorical(cols):\n"
     ]
    },
    {
     "data": {
      "text/plain": [
       "Pipeline(steps=[('onehotencoder',\n",
       "                 OneHotEncoder(cols=['make', 'model', 'fuel_type',\n",
       "                                     'Transmission Type', 'drive_type', 'size',\n",
       "                                     'body_style'],\n",
       "                               use_cat_names=True)),\n",
       "                ('simpleimputer', SimpleImputer()),\n",
       "                ('standardscaler', StandardScaler()),\n",
       "                ('linearregression', LinearRegression())])"
      ]
     },
     "execution_count": 93,
     "metadata": {},
     "output_type": "execute_result"
    }
   ],
   "source": [
    "# Pipeline for linear regression model\n",
    "lin_reg = make_pipeline(OneHotEncoder(use_cat_names=True),\n",
    "                        SimpleImputer(),\n",
    "                        StandardScaler(),\n",
    "                        LinearRegression())\n",
    "# Fit model with training data\n",
    "lin_reg.fit(X_train, y_train)\n"
   ]
  },
  {
   "cell_type": "markdown",
   "metadata": {},
   "source": [
    "# Linear Regression Performance Metrics"
   ]
  },
  {
   "cell_type": "code",
   "execution_count": 94,
   "metadata": {},
   "outputs": [
    {
     "name": "stdout",
     "output_type": "stream",
     "text": [
      "Linear Regression Training MAE: 3553.6037785377453\n",
      "Linear Regression Test MAE: 2013668264386808.2\n",
      "Linear Regression Training R^2: 0.9850895841906115\n",
      "Linear Regression Test R^2: -6.610041074190016e+23\n"
     ]
    }
   ],
   "source": [
    "# Mean absolute error and R^2 for training and test sets\n",
    "lin_reg_train_MAE = mean_absolute_error(y_train, lin_reg.predict(X_train))\n",
    "lin_reg_test_MAE = mean_absolute_error(y_test, lin_reg.predict(X_test))\n",
    "lin_reg_train_r2 = r2_score(y_train, lin_reg.predict(X_train))\n",
    "lin_reg_test_r2 = r2_score(y_test, lin_reg.predict(X_test))\n",
    "# return MAE\n",
    "print(f'Linear Regression Training MAE: {lin_reg_train_MAE}')\n",
    "print(f'Linear Regression Test MAE: {lin_reg_test_MAE}')\n",
    "print(f'Linear Regression Training R^2: {lin_reg_train_r2}')\n",
    "print(f'Linear Regression Test R^2: {lin_reg_test_r2}')"
   ]
  },
  {
   "cell_type": "markdown",
   "metadata": {},
   "source": [
    "# Ridge Regression Model"
   ]
  },
  {
   "cell_type": "code",
   "execution_count": 95,
   "metadata": {
    "scrolled": true
   },
   "outputs": [
    {
     "name": "stderr",
     "output_type": "stream",
     "text": [
      "/Users/eric/anaconda3/envs/unit2/lib/python3.8/site-packages/category_encoders/utils.py:21: FutureWarning: is_categorical is deprecated and will be removed in a future version.  Use is_categorical_dtype instead\n",
      "  elif pd.api.types.is_categorical(cols):\n"
     ]
    },
    {
     "data": {
      "text/plain": [
       "Pipeline(steps=[('onehotencoder',\n",
       "                 OneHotEncoder(cols=['make', 'model', 'fuel_type',\n",
       "                                     'Transmission Type', 'drive_type', 'size',\n",
       "                                     'body_style'],\n",
       "                               use_cat_names=True)),\n",
       "                ('standardscaler', StandardScaler()),\n",
       "                ('simpleimputer', SimpleImputer()), ('ridge', Ridge())])"
      ]
     },
     "execution_count": 95,
     "metadata": {},
     "output_type": "execute_result"
    }
   ],
   "source": [
    "# Pipeline for ridge regressor\n",
    "ridge_mod = make_pipeline(\n",
    "                    OneHotEncoder(use_cat_names=True),\n",
    "                    StandardScaler(),\n",
    "                    SimpleImputer(),\n",
    "                    Ridge())\n",
    "# Fit ridge regressor with training data\n",
    "ridge_mod.fit(X_train, y_train)"
   ]
  },
  {
   "cell_type": "markdown",
   "metadata": {},
   "source": [
    "# Ridge Regression Performance Metrics"
   ]
  },
  {
   "cell_type": "code",
   "execution_count": 96,
   "metadata": {},
   "outputs": [
    {
     "name": "stdout",
     "output_type": "stream",
     "text": [
      "Ridge Regression Training MAE: 3415.325236354022\n",
      "Ridge Regression Validation MAE: 3777.914229318391\n",
      "\n",
      "Ridge Regression Training R^2: 0.9855157681174664\n",
      "Ridge Regression Test R^2: 0.9732110728672186\n"
     ]
    }
   ],
   "source": [
    "# Mean absolute error and R^2 for training and test sets\n",
    "ridge_train_MAE = mean_absolute_error(y_train, ridge_mod.predict(X_train))\n",
    "ridge_test_MAE = mean_absolute_error(y_test, ridge_mod.predict(X_test))\n",
    "ridge_train_r2 = r2_score(y_train, ridge_mod.predict(X_train))\n",
    "ridge_test_r2 = r2_score(y_test, ridge_mod.predict(X_test))\n",
    "# return MAE and R^2 scores\n",
    "print(f'Ridge Regression Training MAE: {ridge_train_MAE}')\n",
    "print(f'Ridge Regression Validation MAE: {ridge_test_MAE}')\n",
    "print()\n",
    "print(f'Ridge Regression Training R^2: {ridge_train_r2}')\n",
    "print(f'Ridge Regression Test R^2: {ridge_test_r2}')"
   ]
  },
  {
   "cell_type": "markdown",
   "metadata": {},
   "source": [
    "# Random Forest Regression Model"
   ]
  },
  {
   "cell_type": "code",
   "execution_count": 97,
   "metadata": {},
   "outputs": [
    {
     "data": {
      "text/plain": [
       "Pipeline(steps=[('ordinalencoder',\n",
       "                 OrdinalEncoder(cols=['make', 'model', 'fuel_type',\n",
       "                                      'Transmission Type', 'drive_type', 'size',\n",
       "                                      'body_style'],\n",
       "                                mapping=[{'col': 'make',\n",
       "                                          'data_type': CategoricalDtype(categories=['Acura', 'Alfa Romeo', 'Aston Martin', 'Audi', 'BMW',\n",
       "                  'Bentley', 'Buick', 'Cadillac', 'Chevrolet', 'Chrysler',\n",
       "                  'Dodge', 'FIAT', 'Ferrari', 'Ford', 'GMC', 'Genesis',\n",
       "                  'HUM...\n",
       "                  'Regular Cab Pickup', 'Sedan', 'Wagon'],\n",
       ", ordered=False),\n",
       "                                          'mapping': 4dr SUV                 1\n",
       "Coupe                   2\n",
       "Sedan                   3\n",
       "Crew Cab Pickup         4\n",
       "2dr Hatchback           5\n",
       "Regular Cab Pickup      6\n",
       "Extended Cab Pickup     7\n",
       "4dr Hatchback           8\n",
       "Passenger Minivan       9\n",
       "Convertible            10\n",
       "2dr SUV                11\n",
       "Wagon                  12\n",
       "Passenger Van          13\n",
       "Cargo Minivan          14\n",
       "Cargo Van              15\n",
       "Convertible SUV        16\n",
       "NaN                    -2\n",
       "dtype: int64}])),\n",
       "                ('simpleimputer', SimpleImputer()),\n",
       "                ('randomforestregressor', RandomForestRegressor())])"
      ]
     },
     "execution_count": 97,
     "metadata": {},
     "output_type": "execute_result"
    }
   ],
   "source": [
    "# Random Forest Regressor pipeline\n",
    "rfr = make_pipeline(\n",
    "            OrdinalEncoder(),\n",
    "            SimpleImputer(),\n",
    "            RandomForestRegressor(n_estimators=100))\n",
    "# Fit training data to RFR model\n",
    "rfr.fit(X_train, y_train)"
   ]
  },
  {
   "cell_type": "code",
   "execution_count": 102,
   "metadata": {},
   "outputs": [
    {
     "name": "stdout",
     "output_type": "stream",
     "text": [
      "RFR Training MAE: 1917.3931294780587\n",
      "RFR Test MAE: 3325.9179260342376\n",
      "\n",
      "RFR Training R^2: 0.9941404435782603\n",
      "RFR Test R^2: 0.9741207997011412\n"
     ]
    }
   ],
   "source": [
    "# Random Forest MAE and R^2 for training and test sets\n",
    "rfr_train_mae = mean_absolute_error(y_train, rfr.predict(X_train))\n",
    "rfr_test_mae = mean_absolute_error(y_test, rfr.predict(X_test))\n",
    "rfr_train_r2 = r2_score(y_train, rfr.predict(X_train))\n",
    "rfr_test_r2 = r2_score(y_test, rfr.predict(X_test))\n",
    "# print results\n",
    "print(f'RFR Training MAE: {rfr_train_mae}')\n",
    "print(f'RFR Test MAE: {rfr_test_mae}')\n",
    "print()\n",
    "print(f'RFR Training R^2: {rfr_train_r2}')\n",
    "print(f'RFR Test R^2: {rfr_test_r2}')"
   ]
  },
  {
   "cell_type": "markdown",
   "metadata": {},
   "source": [
    "# Gradient Boosting Regression Model"
   ]
  },
  {
   "cell_type": "code",
   "execution_count": 99,
   "metadata": {
    "scrolled": false
   },
   "outputs": [
    {
     "data": {
      "text/plain": [
       "Pipeline(steps=[('ordinalencoder',\n",
       "                 OrdinalEncoder(cols=['make', 'model', 'fuel_type',\n",
       "                                      'Transmission Type', 'drive_type', 'size',\n",
       "                                      'body_style'],\n",
       "                                mapping=[{'col': 'make',\n",
       "                                          'data_type': CategoricalDtype(categories=['Acura', 'Alfa Romeo', 'Aston Martin', 'Audi', 'BMW',\n",
       "                  'Bentley', 'Buick', 'Cadillac', 'Chevrolet', 'Chrysler',\n",
       "                  'Dodge', 'FIAT', 'Ferrari', 'Ford', 'GMC', 'Genesis',\n",
       "                  'HUM...\n",
       "                  'Regular Cab Pickup', 'Sedan', 'Wagon'],\n",
       ", ordered=False),\n",
       "                                          'mapping': 4dr SUV                 1\n",
       "Coupe                   2\n",
       "Sedan                   3\n",
       "Crew Cab Pickup         4\n",
       "2dr Hatchback           5\n",
       "Regular Cab Pickup      6\n",
       "Extended Cab Pickup     7\n",
       "4dr Hatchback           8\n",
       "Passenger Minivan       9\n",
       "Convertible            10\n",
       "2dr SUV                11\n",
       "Wagon                  12\n",
       "Passenger Van          13\n",
       "Cargo Minivan          14\n",
       "Cargo Van              15\n",
       "Convertible SUV        16\n",
       "NaN                    -2\n",
       "dtype: int64}])),\n",
       "                ('simpleimputer', SimpleImputer()),\n",
       "                ('gradientboostingregressor', GradientBoostingRegressor())])"
      ]
     },
     "execution_count": 99,
     "metadata": {},
     "output_type": "execute_result"
    }
   ],
   "source": [
    "# XGBR pipeline\n",
    "xgbr = make_pipeline(\n",
    "            OrdinalEncoder(),\n",
    "            SimpleImputer(),\n",
    "            GradientBoostingRegressor(n_estimators=100))\n",
    "# Fit training data to XGBR model\n",
    "xgbr.fit(X_train, y_train)"
   ]
  },
  {
   "cell_type": "markdown",
   "metadata": {},
   "source": [
    "# XGBR Performance Metrics"
   ]
  },
  {
   "cell_type": "code",
   "execution_count": 103,
   "metadata": {},
   "outputs": [
    {
     "name": "stdout",
     "output_type": "stream",
     "text": [
      "XGBR Training MAE: 5629.4095930774865\n",
      "XGBR Test MAE: 5696.61709563349\n",
      "\n",
      "XGBR Training R^2: 0.9639178877242048\n",
      "XGBR Test R^2: 0.9500984697190483\n"
     ]
    }
   ],
   "source": [
    "# Gradient Boosted Regression (XGBR) train and test MAE and R^2\n",
    "xgbr_train_mae = mean_absolute_error(y_train, xgbr.predict(X_train))\n",
    "xgbr_test_mae = mean_absolute_error(y_test, xgbr.predict(X_test))\n",
    "xgbr_train_r2 = r2_score(y_train, xgbr.predict(X_train))\n",
    "xgbr_test_r2 = r2_score(y_test, xgbr.predict(X_test))\n",
    "# Print results\n",
    "print(f'XGBR Training MAE: {xgbr_train_mae}')\n",
    "print(f'XGBR Test MAE: {xgbr_test_mae}')\n",
    "print()\n",
    "print(f'XGBR Training R^2: {xgbr_train_r2}')\n",
    "print(f'XGBR Test R^2: {xgbr_test_r2}')\n"
   ]
  },
  {
   "cell_type": "markdown",
   "metadata": {},
   "source": [
    "# Random Forest Regressor Parameter Tuning\n",
    "- I will use a `RandomForestRegressor` based on baseline model performance.\n",
    "- I will use `GridSearchCV` and `RandomizedSearchCV` for hyperparameter tuning."
   ]
  },
  {
   "cell_type": "code",
   "execution_count": 104,
   "metadata": {
    "scrolled": true
   },
   "outputs": [
    {
     "name": "stdout",
     "output_type": "stream",
     "text": [
      "Fitting 5 folds for each of 216 candidates, totalling 1080 fits\n"
     ]
    },
    {
     "name": "stderr",
     "output_type": "stream",
     "text": [
      "/Users/eric/anaconda3/envs/unit2/lib/python3.8/site-packages/category_encoders/utils.py:21: FutureWarning: is_categorical is deprecated and will be removed in a future version.  Use is_categorical_dtype instead\n",
      "  elif pd.api.types.is_categorical(cols):\n"
     ]
    },
    {
     "data": {
      "text/plain": [
       "GridSearchCV(estimator=Pipeline(steps=[('ordinalencoder',\n",
       "                                        OrdinalEncoder(cols=['make', 'model',\n",
       "                                                             'fuel_type',\n",
       "                                                             'Transmission '\n",
       "                                                             'Type',\n",
       "                                                             'drive_type',\n",
       "                                                             'size',\n",
       "                                                             'body_style'],\n",
       "                                                       mapping=[{'col': 'make',\n",
       "                                                                 'data_type': CategoricalDtype(categories=['Acura', 'Alfa Romeo', 'Aston Martin', 'Audi', 'BMW',\n",
       "                  'Bentley', 'Buick', 'Cadillac', 'Chevrolet', 'Chrysler',\n",
       "                  'Dodge', 'FIAT', 'Ferrari', 'F...\n",
       "Passenger Van          13\n",
       "Cargo Minivan          14\n",
       "Cargo Van              15\n",
       "Convertible SUV        16\n",
       "NaN                    -2\n",
       "dtype: int64}])),\n",
       "                                       ('simpleimputer', SimpleImputer()),\n",
       "                                       ('randomforestregressor',\n",
       "                                        RandomForestRegressor())]),\n",
       "             n_jobs=-1,\n",
       "             param_grid={'randomforestregressor__max_depth': range(5, 35, 5),\n",
       "                         'randomforestregressor__max_samples': array([0.2, 0.4, 0.6, 0.8]),\n",
       "                         'randomforestregressor__n_estimators': range(10, 100, 10)},\n",
       "             verbose=1)"
      ]
     },
     "execution_count": 104,
     "metadata": {},
     "output_type": "execute_result"
    }
   ],
   "source": [
    "# set hyperparameter ranges for GridSearchCV and RandomizedSearchCV\n",
    "params = {\n",
    "    'randomforestregressor__n_estimators': range(10, 100, 10),\n",
    "    'randomforestregressor__max_depth': range(5, 35, 5),\n",
    "    'randomforestregressor__max_samples': np.arange(0.2, 0.8, 0.2)\n",
    "}\n",
    "# GridSearchCV for hyperparameter tuning\n",
    "rfr_gscv = GridSearchCV(\n",
    "    rfr,\n",
    "    params,\n",
    "    n_jobs=-1,\n",
    "    verbose=1\n",
    ")\n",
    "# Fit `GridSearchCV` with training data\n",
    "rfr_gscv.fit(X_train, y_train)"
   ]
  },
  {
   "cell_type": "code",
   "execution_count": 109,
   "metadata": {},
   "outputs": [
    {
     "name": "stdout",
     "output_type": "stream",
     "text": [
      "RFR GridSearch Best R^2 Score: 0.9629357381310228\n",
      "RFR GridSearch Best Parameters: {'randomforestregressor__max_depth': 20, 'randomforestregressor__max_samples': 0.8, 'randomforestregressor__n_estimators': 50}\n"
     ]
    }
   ],
   "source": [
    "# Exploring GridSearch and RandomizedSearch performance\n",
    "rfr_gscv_best_r2 = rfr_gscv.best_score_\n",
    "rfr_gscv_best_params = rfr_gscv.best_params_\n",
    "# Return results of GridSearchCV\n",
    "print(f'RFR GridSearch Best R^2 Score: {rfr_gscv_best_r2}')\n",
    "print(f'RFR GridSearch Best Parameters: {rfr_gscv_best_params}')\n"
   ]
  },
  {
   "cell_type": "markdown",
   "metadata": {},
   "source": [
    "# Final Random Forest Regressor "
   ]
  },
  {
   "cell_type": "code",
   "execution_count": 112,
   "metadata": {},
   "outputs": [
    {
     "data": {
      "text/plain": [
       "Pipeline(steps=[('ordinalencoder',\n",
       "                 OrdinalEncoder(cols=['make', 'model', 'fuel_type',\n",
       "                                      'Transmission Type', 'drive_type', 'size',\n",
       "                                      'body_style'],\n",
       "                                mapping=[{'col': 'make',\n",
       "                                          'data_type': CategoricalDtype(categories=['Acura', 'Alfa Romeo', 'Aston Martin', 'Audi', 'BMW',\n",
       "                  'Bentley', 'Buick', 'Cadillac', 'Chevrolet', 'Chrysler',\n",
       "                  'Dodge', 'FIAT', 'Ferrari', 'Ford', 'GMC', 'Genesis',\n",
       "                  'HUM...\n",
       "                                          'mapping': 4dr SUV                 1\n",
       "Coupe                   2\n",
       "Sedan                   3\n",
       "Crew Cab Pickup         4\n",
       "2dr Hatchback           5\n",
       "Regular Cab Pickup      6\n",
       "Extended Cab Pickup     7\n",
       "4dr Hatchback           8\n",
       "Passenger Minivan       9\n",
       "Convertible            10\n",
       "2dr SUV                11\n",
       "Wagon                  12\n",
       "Passenger Van          13\n",
       "Cargo Minivan          14\n",
       "Cargo Van              15\n",
       "Convertible SUV        16\n",
       "NaN                    -2\n",
       "dtype: int64}])),\n",
       "                ('simpleimputer', SimpleImputer()),\n",
       "                ('randomforestregressor',\n",
       "                 RandomForestRegressor(max_depth=20, max_samples=0.8,\n",
       "                                       n_estimators=50, n_jobs=-1))])"
      ]
     },
     "execution_count": 112,
     "metadata": {},
     "output_type": "execute_result"
    }
   ],
   "source": [
    "# Final RFR pipeline with best parameters from GridSearchCV\n",
    "final_rfr = make_pipeline(OrdinalEncoder(),\n",
    "                          SimpleImputer(),\n",
    "                          RandomForestRegressor(n_estimators=50,\n",
    "                                                max_depth=20,\n",
    "                                                max_samples=0.8,\n",
    "                                                n_jobs=-1))\n",
    "# Refit final_rfr with training data\n",
    "final_rfr.fit(X_train, y_train)"
   ]
  },
  {
   "cell_type": "markdown",
   "metadata": {},
   "source": [
    "# Final Random Forest Performance"
   ]
  },
  {
   "cell_type": "code",
   "execution_count": 114,
   "metadata": {},
   "outputs": [
    {
     "name": "stdout",
     "output_type": "stream",
     "text": [
      "Final RFR Train R^2: 0.9922276008138571\n",
      "Final RFR Test R^2: 0.9705556454826562\n",
      "\n",
      "Final RFR Train MAE: 2150.4972829742287\n",
      "Final RFR Test MAE: 3405.5522965045407\n"
     ]
    }
   ],
   "source": [
    "# Scoring\n",
    "final_rfr_train_r2 = r2_score(y_train, final_rfr.predict(X_train))\n",
    "final_rfr_test_r2 = r2_score(y_test, final_rfr.predict(X_test))\n",
    "final_rfr_train_mae = mean_absolute_error(y_train, final_rfr.predict(X_train))\n",
    "final_rfr_test_mae = mean_absolute_error(y_test, final_rfr.predict(X_test))\n",
    "# Return results\n",
    "print(f'Final RFR Train R^2: {final_rfr_train_r2}')\n",
    "print(f'Final RFR Test R^2: {final_rfr_test_r2}')\n",
    "print()\n",
    "print(f'Final RFR Train MAE: {final_rfr_train_mae}')\n",
    "print(f'Final RFR Test MAE: {final_rfr_test_mae}')"
   ]
  },
  {
   "cell_type": "markdown",
   "metadata": {},
   "source": [
    "# To Do List\n",
    "- [ ] Get feedback\n",
    "- [ ] Create visualizations\n",
    "- [ ] Write blog post"
   ]
  }
 ],
 "metadata": {
  "jupytext": {
   "cell_metadata_filter": "-all",
   "main_language": "python",
   "notebook_metadata_filter": "-all"
  },
  "kernelspec": {
   "display_name": "Python 3",
   "language": "python",
   "name": "python3"
  },
  "language_info": {
   "codemirror_mode": {
    "name": "ipython",
    "version": 3
   },
   "file_extension": ".py",
   "mimetype": "text/x-python",
   "name": "python",
   "nbconvert_exporter": "python",
   "pygments_lexer": "ipython3",
   "version": "3.8.5"
  }
 },
 "nbformat": 4,
 "nbformat_minor": 2
}
