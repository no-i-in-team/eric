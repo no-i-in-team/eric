{
 "cells": [
  {
   "cell_type": "markdown",
   "metadata": {},
   "source": [
    "# Car Sale Price Predictor"
   ]
  },
  {
   "cell_type": "markdown",
   "metadata": {},
   "source": [
    "# Imports!"
   ]
  },
  {
   "cell_type": "code",
   "execution_count": 1,
   "metadata": {},
   "outputs": [
    {
     "ename": "ModuleNotFoundError",
     "evalue": "No module named 'seaborn'",
     "output_type": "error",
     "traceback": [
      "\u001b[0;31m---------------------------------------------------------------------------\u001b[0m",
      "\u001b[0;31mModuleNotFoundError\u001b[0m                       Traceback (most recent call last)",
      "\u001b[0;32m<ipython-input-1-c7507466e3d8>\u001b[0m in \u001b[0;36m<module>\u001b[0;34m\u001b[0m\n\u001b[1;32m      2\u001b[0m \u001b[0;32mimport\u001b[0m \u001b[0mnumpy\u001b[0m \u001b[0;32mas\u001b[0m \u001b[0mnp\u001b[0m\u001b[0;34m\u001b[0m\u001b[0;34m\u001b[0m\u001b[0m\n\u001b[1;32m      3\u001b[0m \u001b[0;32mimport\u001b[0m \u001b[0mmatplotlib\u001b[0m\u001b[0;34m.\u001b[0m\u001b[0mpyplot\u001b[0m \u001b[0;32mas\u001b[0m \u001b[0mplt\u001b[0m\u001b[0;34m\u001b[0m\u001b[0;34m\u001b[0m\u001b[0m\n\u001b[0;32m----> 4\u001b[0;31m \u001b[0;32mimport\u001b[0m \u001b[0mseaborn\u001b[0m \u001b[0;32mas\u001b[0m \u001b[0msns\u001b[0m\u001b[0;34m\u001b[0m\u001b[0;34m\u001b[0m\u001b[0m\n\u001b[0m\u001b[1;32m      5\u001b[0m \u001b[0;32mfrom\u001b[0m \u001b[0msklearn\u001b[0m\u001b[0;34m.\u001b[0m\u001b[0mlinear_model\u001b[0m \u001b[0;32mimport\u001b[0m \u001b[0mLinearRegression\u001b[0m\u001b[0;34m,\u001b[0m \u001b[0mRidge\u001b[0m\u001b[0;34m\u001b[0m\u001b[0;34m\u001b[0m\u001b[0m\n\u001b[1;32m      6\u001b[0m \u001b[0;32mfrom\u001b[0m \u001b[0msklearn\u001b[0m\u001b[0;34m.\u001b[0m\u001b[0mpipeline\u001b[0m \u001b[0;32mimport\u001b[0m \u001b[0mmake_pipeline\u001b[0m\u001b[0;34m\u001b[0m\u001b[0;34m\u001b[0m\u001b[0m\n",
      "\u001b[0;31mModuleNotFoundError\u001b[0m: No module named 'seaborn'"
     ]
    }
   ],
   "source": [
    "import pandas as pd\n",
    "import numpy as np\n",
    "import matplotlib.pyplot as plt\n",
    "import seaborn as sns\n",
    "from sklearn.linear_model import LinearRegression, Ridge\n",
    "from sklearn.pipeline import make_pipeline\n",
    "from category_encoders import OneHotEncoder, OrdinalEncoder\n",
    "from sklearn.model_selection import train_test_split, GridSearchCV, RandomizedSearchCV\n",
    "from sklearn.impute import SimpleImputer\n",
    "from sklearn.preprocessing import StandardScaler, LabelEncoder\n",
    "from sklearn.metrics import mean_absolute_error, mean_squared_error, r2_score\n",
    "from sklearn.ensemble import RandomForestRegressor, GradientBoostingRegressor\n",
    "from pdpbox.pdp import pdp_isolate, pdp_plot, pdp_interact, pdp_interact_plot"
   ]
  },
  {
   "cell_type": "markdown",
   "metadata": {},
   "source": [
    "# Wrangle Data \n",
    "- Here I will define a function named `wrangle` to ensure reproducibility, and to streamline the data cleaning process."
   ]
  },
  {
   "cell_type": "code",
   "execution_count": 2,
   "metadata": {},
   "outputs": [],
   "source": [
    "# Wrangle function\n",
    "def wrangle(filepath):\n",
    "    # read in dataframe\n",
    "    X = pd.read_csv(filepath)\n",
    "    # drop unnecessary columns\n",
    "    X.drop(columns='Market Category', axis=1, inplace=True)\n",
    "    # drop columns with '0' sale_price\n",
    "    X.drop(X[X['MSRP']==0].index, inplace=True)\n",
    "    # remove outliers\n",
    "    X.drop(X[X[\"MSRP\"] >= 500000].index, inplace=True)\n",
    "    # clean column names\n",
    "    X.rename(columns={\"Make\": \"make\",\n",
    "                      \"Model\": \"model\",\n",
    "                      \"Year\": \"year\",\n",
    "                      \"Engine Fuel Type\": \"fuel_type\",\n",
    "                      \"Engine HP\": \"horsepower\",\n",
    "                      \"Engine Cylinders\": \"cylinders\",\n",
    "                      \"Transmission_Type\": \"transmission\",\n",
    "                      \"Driven_Wheels\": \"drive_type\",\n",
    "                      \"Number of Doors\": \"doors\",\n",
    "                      \"Vehicle Size\": \"size\",\n",
    "                      \"Vehicle Style\": \"body_style\",\n",
    "                      \"highway MPG\": \"mpg_h\",\n",
    "                      \"city mpg\": \"mpg_c\",\n",
    "                      \"Popularity\": \"popularity\",\n",
    "                      \"MSRP\": \"sale_price\"}, inplace=True)\n",
    "    # create feature for age of car\n",
    "    X['vehicle_age'] = 2017 - X['year']\n",
    "    # drop duplicate observations\n",
    "    X.drop_duplicates(keep=False, inplace=True)\n",
    "    # Drop observations with `NaN` values\n",
    "    X = X.dropna()\n",
    "    # Type casting `strings` to `category`\n",
    "    cat_col = [col for col in X.select_dtypes('object').columns]\n",
    "    X[cat_col] = X[cat_col].astype('category')\n",
    "    return X\n",
    "# setting filepath to dataframe\n",
    "filepath = 'CSV/cars.csv'\n",
    "# apply wrangle function to dataset\n",
    "cars = wrangle(filepath)\n"
   ]
  },
  {
   "cell_type": "code",
   "execution_count": 3,
   "metadata": {
    "scrolled": false
   },
   "outputs": [
    {
     "name": "stdout",
     "output_type": "stream",
     "text": [
      "<class 'pandas.core.frame.DataFrame'>\n",
      "Int64Index: 10460 entries, 0 to 11913\n",
      "Data columns (total 16 columns):\n",
      " #   Column             Non-Null Count  Dtype   \n",
      "---  ------             --------------  -----   \n",
      " 0   make               10460 non-null  category\n",
      " 1   model              10460 non-null  category\n",
      " 2   year               10460 non-null  int64   \n",
      " 3   fuel_type          10460 non-null  category\n",
      " 4   horsepower         10460 non-null  float64 \n",
      " 5   cylinders          10460 non-null  float64 \n",
      " 6   Transmission Type  10460 non-null  category\n",
      " 7   drive_type         10460 non-null  category\n",
      " 8   doors              10460 non-null  float64 \n",
      " 9   size               10460 non-null  category\n",
      " 10  body_style         10460 non-null  category\n",
      " 11  mpg_h              10460 non-null  int64   \n",
      " 12  mpg_c              10460 non-null  int64   \n",
      " 13  popularity         10460 non-null  int64   \n",
      " 14  sale_price         10460 non-null  int64   \n",
      " 15  vehicle_age        10460 non-null  int64   \n",
      "dtypes: category(7), float64(3), int64(6)\n",
      "memory usage: 949.0 KB\n"
     ]
    }
   ],
   "source": [
    "# confirm functionality of wrangle function\n",
    "cars.info()"
   ]
  },
  {
   "cell_type": "markdown",
   "metadata": {},
   "source": [
    "# Split Data\n",
    "- Here I will separate my feature matrix from my target vector"
   ]
  },
  {
   "cell_type": "code",
   "execution_count": 4,
   "metadata": {
    "scrolled": true
   },
   "outputs": [
    {
     "name": "stdout",
     "output_type": "stream",
     "text": [
      "Feature Matrix Shape: (10460, 15)\n",
      "Target Vector Shape: (10460,)\n"
     ]
    }
   ],
   "source": [
    "# Separating `Feature Matrix` from `Target Vector` \n",
    "target = 'sale_price'\n",
    "y = cars[target]\n",
    "X = cars.drop(columns=target)\n",
    "# Verifying shape `Feature Matrix` and `Target Vector`\n",
    "print(f'Feature Matrix Shape: {X.shape}')\n",
    "print(f'Target Vector Shape: {y.shape}')\n",
    "# Applying training/validation split to `FM` and `TV`\n",
    "X_train, X_test, y_train, y_test = train_test_split(X, y,\n",
    "                                                  test_size=0.2,\n",
    "                                                  random_state=42)"
   ]
  },
  {
   "cell_type": "markdown",
   "metadata": {},
   "source": [
    "# Establish Baseline\n",
    "- Being that `sale_price` is my target I will use the mean `sale_price` to establish my baseline."
   ]
  },
  {
   "cell_type": "code",
   "execution_count": 5,
   "metadata": {},
   "outputs": [
    {
     "name": "stdout",
     "output_type": "stream",
     "text": [
      "Baseline MAE: 26132.23108724304\n"
     ]
    }
   ],
   "source": [
    "# Establish baseline \n",
    "mean_sale_price = y_train.mean()\n",
    "y_pred = [mean_sale_price] * len(y_train)\n",
    "# Baseline MAE\n",
    "baseline_mae = mean_absolute_error(y_train, y_pred)\n",
    "print(f'Baseline MAE: {baseline_mae}')"
   ]
  },
  {
   "cell_type": "markdown",
   "metadata": {},
   "source": [
    "# Build Models\n"
   ]
  },
  {
   "cell_type": "code",
   "execution_count": 26,
   "metadata": {},
   "outputs": [
    {
     "name": "stderr",
     "output_type": "stream",
     "text": [
      "/Users/eric/anaconda3/envs/unit2/lib/python3.8/site-packages/category_encoders/utils.py:21: FutureWarning: is_categorical is deprecated and will be removed in a future version.  Use is_categorical_dtype instead\n",
      "  elif pd.api.types.is_categorical(cols):\n"
     ]
    }
   ],
   "source": [
    "# Pipeline for linear regression model\n",
    "lin_reg = make_pipeline(OneHotEncoder(use_cat_names=True),\n",
    "                        StandardScaler(),\n",
    "                        LinearRegression())\n",
    "# Fit model with training data\n",
    "lin_reg.fit(X_train, y_train);\n"
   ]
  },
  {
   "cell_type": "markdown",
   "metadata": {},
   "source": [
    "# Linear Regression Performance Metrics"
   ]
  },
  {
   "cell_type": "code",
   "execution_count": 8,
   "metadata": {},
   "outputs": [
    {
     "name": "stdout",
     "output_type": "stream",
     "text": [
      "Linear Regression Training MAE: 3553.6037785377453\n",
      "Linear Regression Test MAE: 2013668264386808.2\n",
      "\n",
      "Linear Regression Training R^2: 0.9850895841906115\n",
      "Linear Regression Test R^2: -6.610041074190016e+23\n"
     ]
    }
   ],
   "source": [
    "# Mean absolute error and R^2 for training and test sets\n",
    "lin_reg_train_MAE = mean_absolute_error(y_train, lin_reg.predict(X_train))\n",
    "lin_reg_test_MAE = mean_absolute_error(y_test, lin_reg.predict(X_test))\n",
    "lin_reg_train_r2 = r2_score(y_train, lin_reg.predict(X_train))\n",
    "lin_reg_test_r2 = r2_score(y_test, lin_reg.predict(X_test))\n",
    "# return MAE\n",
    "print(f'Linear Regression Training MAE: {lin_reg_train_MAE}')\n",
    "print(f'Linear Regression Test MAE: {lin_reg_test_MAE}')\n",
    "print()\n",
    "print(f'Linear Regression Training R^2: {lin_reg_train_r2}')\n",
    "print(f'Linear Regression Test R^2: {lin_reg_test_r2}')"
   ]
  },
  {
   "cell_type": "markdown",
   "metadata": {},
   "source": [
    "# Ridge Regression Model"
   ]
  },
  {
   "cell_type": "code",
   "execution_count": 23,
   "metadata": {
    "scrolled": true
   },
   "outputs": [
    {
     "name": "stderr",
     "output_type": "stream",
     "text": [
      "/Users/eric/anaconda3/envs/unit2/lib/python3.8/site-packages/category_encoders/utils.py:21: FutureWarning: is_categorical is deprecated and will be removed in a future version.  Use is_categorical_dtype instead\n",
      "  elif pd.api.types.is_categorical(cols):\n"
     ]
    }
   ],
   "source": [
    "# Pipeline for ridge regressor\n",
    "ridge_mod = make_pipeline(\n",
    "                    OneHotEncoder(use_cat_names=True),\n",
    "                    StandardScaler(),\n",
    "                    Ridge(random_state=42))\n",
    "# Fit ridge regressor with training data\n",
    "ridge_mod.fit(X_train, y_train);"
   ]
  },
  {
   "cell_type": "markdown",
   "metadata": {},
   "source": [
    "# Ridge Regression Performance Metrics"
   ]
  },
  {
   "cell_type": "code",
   "execution_count": 24,
   "metadata": {},
   "outputs": [
    {
     "name": "stdout",
     "output_type": "stream",
     "text": [
      "Ridge Regression Training MAE: 3415.325236354022\n",
      "Ridge Regression Validation MAE: 3777.914229318391\n",
      "\n",
      "Ridge Regression Training R^2: 0.9855157681174664\n",
      "Ridge Regression Test R^2: 0.9732110728672186\n"
     ]
    }
   ],
   "source": [
    "# Mean absolute error and R^2 for training and test sets\n",
    "ridge_train_MAE = mean_absolute_error(y_train, ridge_mod.predict(X_train))\n",
    "ridge_test_MAE = mean_absolute_error(y_test, ridge_mod.predict(X_test))\n",
    "ridge_train_r2 = r2_score(y_train, ridge_mod.predict(X_train))\n",
    "ridge_test_r2 = r2_score(y_test, ridge_mod.predict(X_test))\n",
    "# return MAE and R^2 scores\n",
    "print(f'Ridge Regression Training MAE: {ridge_train_MAE}')\n",
    "print(f'Ridge Regression Validation MAE: {ridge_test_MAE}')\n",
    "print()\n",
    "print(f'Ridge Regression Training R^2: {ridge_train_r2}')\n",
    "print(f'Ridge Regression Test R^2: {ridge_test_r2}')"
   ]
  },
  {
   "cell_type": "markdown",
   "metadata": {},
   "source": [
    "# Random Forest Regression Model"
   ]
  },
  {
   "cell_type": "code",
   "execution_count": 27,
   "metadata": {},
   "outputs": [],
   "source": [
    "# Random Forest Regressor pipeline\n",
    "rfr = make_pipeline(\n",
    "            OrdinalEncoder(),\n",
    "            StandardScaler(),\n",
    "            RandomForestRegressor(random_state=42))\n",
    "# Fit training data to RFR model\n",
    "rfr.fit(X_train, y_train);"
   ]
  },
  {
   "cell_type": "code",
   "execution_count": 28,
   "metadata": {},
   "outputs": [
    {
     "name": "stdout",
     "output_type": "stream",
     "text": [
      "RFR Training MAE: 1920.4061070286423\n",
      "RFR Test MAE: 3333.5582245411247\n",
      "\n",
      "RFR Training R^2: 0.9940668361002928\n",
      "RFR Test R^2: 0.9721811881005311\n"
     ]
    }
   ],
   "source": [
    "# Random Forest MAE and R^2 for training and test sets\n",
    "rfr_train_mae = mean_absolute_error(y_train, rfr.predict(X_train))\n",
    "rfr_test_mae = mean_absolute_error(y_test, rfr.predict(X_test))\n",
    "rfr_train_r2 = r2_score(y_train, rfr.predict(X_train))\n",
    "rfr_test_r2 = r2_score(y_test, rfr.predict(X_test))\n",
    "# print results\n",
    "print(f'RFR Training MAE: {rfr_train_mae}')\n",
    "print(f'RFR Test MAE: {rfr_test_mae}')\n",
    "print()\n",
    "print(f'RFR Training R^2: {rfr_train_r2}')\n",
    "print(f'RFR Test R^2: {rfr_test_r2}')"
   ]
  },
  {
   "cell_type": "markdown",
   "metadata": {},
   "source": [
    "# Gradient Boosting Regression Model"
   ]
  },
  {
   "cell_type": "code",
   "execution_count": 29,
   "metadata": {
    "scrolled": false
   },
   "outputs": [],
   "source": [
    "# XGBR pipeline\n",
    "xgbr = make_pipeline(\n",
    "            OrdinalEncoder(),\n",
    "            StandardScaler(),\n",
    "            GradientBoostingRegressor(random_state=42))\n",
    "# Fit training data to XGBR model\n",
    "xgbr.fit(X_train, y_train);"
   ]
  },
  {
   "cell_type": "markdown",
   "metadata": {},
   "source": [
    "# XGBR Performance Metrics"
   ]
  },
  {
   "cell_type": "code",
   "execution_count": 4,
   "metadata": {},
   "outputs": [
    {
     "ename": "NameError",
     "evalue": "name 'mean_absolute_error' is not defined",
     "output_type": "error",
     "traceback": [
      "\u001b[0;31m---------------------------------------------------------------------------\u001b[0m",
      "\u001b[0;31mNameError\u001b[0m                                 Traceback (most recent call last)",
      "\u001b[0;32m<ipython-input-4-d5f115ef4c02>\u001b[0m in \u001b[0;36m<module>\u001b[0;34m\u001b[0m\n\u001b[1;32m      1\u001b[0m \u001b[0;31m# Gradient Boosted Regression (XGBR) train and test MAE and R^2\u001b[0m\u001b[0;34m\u001b[0m\u001b[0;34m\u001b[0m\u001b[0;34m\u001b[0m\u001b[0m\n\u001b[0;32m----> 2\u001b[0;31m \u001b[0mxgbr_train_mae\u001b[0m \u001b[0;34m=\u001b[0m \u001b[0mmean_absolute_error\u001b[0m\u001b[0;34m(\u001b[0m\u001b[0my_train\u001b[0m\u001b[0;34m,\u001b[0m \u001b[0mxgbr\u001b[0m\u001b[0;34m.\u001b[0m\u001b[0mpredict\u001b[0m\u001b[0;34m(\u001b[0m\u001b[0mX_train\u001b[0m\u001b[0;34m)\u001b[0m\u001b[0;34m)\u001b[0m\u001b[0;34m\u001b[0m\u001b[0;34m\u001b[0m\u001b[0m\n\u001b[0m\u001b[1;32m      3\u001b[0m \u001b[0mxgbr_test_mae\u001b[0m \u001b[0;34m=\u001b[0m \u001b[0mmean_absolute_error\u001b[0m\u001b[0;34m(\u001b[0m\u001b[0my_test\u001b[0m\u001b[0;34m,\u001b[0m \u001b[0mxgbr\u001b[0m\u001b[0;34m.\u001b[0m\u001b[0mpredict\u001b[0m\u001b[0;34m(\u001b[0m\u001b[0mX_test\u001b[0m\u001b[0;34m)\u001b[0m\u001b[0;34m)\u001b[0m\u001b[0;34m\u001b[0m\u001b[0;34m\u001b[0m\u001b[0m\n\u001b[1;32m      4\u001b[0m \u001b[0mxgbr_train_r2\u001b[0m \u001b[0;34m=\u001b[0m \u001b[0mr2_score\u001b[0m\u001b[0;34m(\u001b[0m\u001b[0my_train\u001b[0m\u001b[0;34m,\u001b[0m \u001b[0mxgbr\u001b[0m\u001b[0;34m.\u001b[0m\u001b[0mpredict\u001b[0m\u001b[0;34m(\u001b[0m\u001b[0mX_train\u001b[0m\u001b[0;34m)\u001b[0m\u001b[0;34m)\u001b[0m\u001b[0;34m\u001b[0m\u001b[0;34m\u001b[0m\u001b[0m\n\u001b[1;32m      5\u001b[0m \u001b[0mxgbr_test_r2\u001b[0m \u001b[0;34m=\u001b[0m \u001b[0mr2_score\u001b[0m\u001b[0;34m(\u001b[0m\u001b[0my_test\u001b[0m\u001b[0;34m,\u001b[0m \u001b[0mxgbr\u001b[0m\u001b[0;34m.\u001b[0m\u001b[0mpredict\u001b[0m\u001b[0;34m(\u001b[0m\u001b[0mX_test\u001b[0m\u001b[0;34m)\u001b[0m\u001b[0;34m)\u001b[0m\u001b[0;34m\u001b[0m\u001b[0;34m\u001b[0m\u001b[0m\n",
      "\u001b[0;31mNameError\u001b[0m: name 'mean_absolute_error' is not defined"
     ]
    }
   ],
   "source": [
    "# Gradient Boosted Regression (XGBR) train and test MAE and R^2\n",
    "xgbr_train_mae = mean_absolute_error(y_train, xgbr.predict(X_train))\n",
    "xgbr_test_mae = mean_absolute_error(y_test, xgbr.predict(X_test))\n",
    "xgbr_train_r2 = r2_score(y_train, xgbr.predict(X_train))\n",
    "xgbr_test_r2 = r2_score(y_test, xgbr.predict(X_test))\n",
    "# Print results\n",
    "print(f'XGBR Training MAE: {xgbr_train_mae}')\n",
    "print(f'XGBR Test MAE: {xgbr_test_mae}')\n",
    "print()\n",
    "print(f'XGBR Training R^2: {xgbr_train_r2}')\n",
    "print(f'XGBR Test R^2: {xgbr_test_r2}')\n"
   ]
  },
  {
   "cell_type": "markdown",
   "metadata": {},
   "source": [
    "# Random Forest Regressor Parameter Tuning\n",
    "- I will use a `RandomForestRegressor` based on baseline model performance.\n",
    "- I will use `GridSearchCV` and `RandomizedSearchCV` for hyperparameter tuning."
   ]
  },
  {
   "cell_type": "code",
   "execution_count": 32,
   "metadata": {
    "scrolled": true
   },
   "outputs": [
    {
     "name": "stdout",
     "output_type": "stream",
     "text": [
      "Fitting 5 folds for each of 216 candidates, totalling 1080 fits\n"
     ]
    },
    {
     "name": "stderr",
     "output_type": "stream",
     "text": [
      "/Users/eric/anaconda3/envs/unit2/lib/python3.8/site-packages/category_encoders/utils.py:21: FutureWarning: is_categorical is deprecated and will be removed in a future version.  Use is_categorical_dtype instead\n",
      "  elif pd.api.types.is_categorical(cols):\n"
     ]
    }
   ],
   "source": [
    "# set hyperparameter ranges for GridSearchCV and RandomizedSearchCV\n",
    "params = {\n",
    "    'randomforestregressor__n_estimators': range(10, 100, 10),\n",
    "    'randomforestregressor__max_depth': range(5, 35, 5),\n",
    "    'randomforestregressor__max_samples': np.arange(0.2, 0.8, 0.2)\n",
    "}\n",
    "# GridSearchCV for hyperparameter tuning\n",
    "rfr_gscv = GridSearchCV(\n",
    "    rfr,\n",
    "    params,\n",
    "    n_jobs=-1,\n",
    "    verbose=1,\n",
    ")\n",
    "# Fit `GridSearchCV` with training data\n",
    "rfr_gscv.fit(X_train, y_train);"
   ]
  },
  {
   "cell_type": "code",
   "execution_count": 33,
   "metadata": {},
   "outputs": [
    {
     "name": "stdout",
     "output_type": "stream",
     "text": [
      "RFR GridSearch Best R^2 Score: 0.9639989842505367\n",
      "RFR GridSearch Best Parameters: {'randomforestregressor__max_depth': 30, 'randomforestregressor__max_samples': 0.8, 'randomforestregressor__n_estimators': 50}\n"
     ]
    }
   ],
   "source": [
    "# Exploring GridSearch and RandomizedSearch performance\n",
    "rfr_gscv_best_r2 = rfr_gscv.best_score_\n",
    "rfr_gscv_best_params = rfr_gscv.best_params_\n",
    "# Return results of GridSearchCV\n",
    "print(f'RFR GridSearch Best R^2 Score: {rfr_gscv_best_r2}')\n",
    "print(f'RFR GridSearch Best Parameters: {rfr_gscv_best_params}')\n"
   ]
  },
  {
   "cell_type": "markdown",
   "metadata": {},
   "source": [
    "# Final Random Forest Regressor "
   ]
  },
  {
   "cell_type": "code",
   "execution_count": 34,
   "metadata": {},
   "outputs": [],
   "source": [
    "# Final RFR pipeline with best parameters from GridSearchCV\n",
    "final_rfr = make_pipeline(OrdinalEncoder(),\n",
    "                          StandardScaler(),\n",
    "                          RandomForestRegressor(n_estimators=50,\n",
    "                                                max_depth=30,\n",
    "                                                max_samples=0.8,\n",
    "                                                n_jobs=-1))\n",
    "# Refit final_rfr with training data\n",
    "final_rfr.fit(X_train, y_train);"
   ]
  },
  {
   "cell_type": "markdown",
   "metadata": {},
   "source": [
    "# Final Random Forest Performance"
   ]
  },
  {
   "cell_type": "code",
   "execution_count": 35,
   "metadata": {
    "scrolled": true
   },
   "outputs": [
    {
     "name": "stdout",
     "output_type": "stream",
     "text": [
      "Final RFR Train R^2: 0.9914791228794655\n",
      "Final RFR Test R^2: 0.9679234242112685\n",
      "\n",
      "Final RFR Train MAE: 2130.2597156389497\n",
      "Final RFR Test MAE: 3513.657988748358\n"
     ]
    }
   ],
   "source": [
    "# Scoring\n",
    "final_rfr_train_r2 = r2_score(y_train, final_rfr.predict(X_train))\n",
    "final_rfr_test_r2 = r2_score(y_test, final_rfr.predict(X_test))\n",
    "final_rfr_train_mae = mean_absolute_error(y_train, final_rfr.predict(X_train))\n",
    "final_rfr_test_mae = mean_absolute_error(y_test, final_rfr.predict(X_test))\n",
    "# Return results\n",
    "print(f'Final RFR Train R^2: {final_rfr_train_r2}')\n",
    "print(f'Final RFR Test R^2: {final_rfr_test_r2}')\n",
    "print()\n",
    "print(f'Final RFR Train MAE: {final_rfr_train_mae}')\n",
    "print(f'Final RFR Test MAE: {final_rfr_test_mae}')"
   ]
  },
  {
   "cell_type": "markdown",
   "metadata": {},
   "source": [
    "# Feature Importances"
   ]
  },
  {
   "cell_type": "code",
   "execution_count": 32,
   "metadata": {
    "scrolled": true
   },
   "outputs": [
    {
     "data": {
      "image/png": "[encoded data removed]",
      "text/plain": [
       "<Figure size 432x288 with 1 Axes>"
      ]
     },
     "metadata": {
      "needs_background": "light"
     },
     "output_type": "display_data"
    }
   ],
   "source": [
    "# Gathering feature importances\n",
    "final_rfr_feat = final_rfr.named_steps['ordinalencoder'].get_feature_names()\n",
    "final_rfr_importance = final_rfr.named_steps['randomforestregressor'].feature_importances_\n",
    "feat_series = pd.Series(final_rfr_importance, index=final_rfr_feat)\n",
    "# Plot importances\n",
    "feat_series.tail(10).sort_values(ascending=True).plot(kind='barh');\n",
    "plt.title('Top Ten Features')\n",
    "plt.xlabel('Influence')\n",
    "plt.ylabel('Feature')\n",
    "plt.show()"
   ]
  },
  {
   "cell_type": "markdown",
   "metadata": {},
   "source": [
    "# Heat Map"
   ]
  },
  {
   "cell_type": "code",
   "execution_count": 37,
   "metadata": {},
   "outputs": [
    {
     "data": {
      "image/png": "[encoded data removed]",
      "text/plain": [
       "<Figure size 864x504 with 2 Axes>"
      ]
     },
     "metadata": {
      "needs_background": "light"
     },
     "output_type": "display_data"
    }
   ],
   "source": [
    "# Plot heat map of correlation between features\n",
    "cars_corr = cars.corr()\n",
    "f, ax = plt.subplots(figsize=(12,7))\n",
    "sns.heatmap(cars_corr, cmap='viridis', annot=True)\n",
    "plt.title(\"Correlation Between Features\",weight='bold',fontsize=18)\n",
    "plt.show()\n"
   ]
  }
 ],
 "metadata": {
  "jupytext": {
   "cell_metadata_filter": "-all",
   "main_language": "python",
   "notebook_metadata_filter": "-all"
  },
  "kernelspec": {
   "display_name": "Python 3",
   "language": "python",
   "name": "python3"
  },
  "language_info": {
   "codemirror_mode": {
    "name": "ipython",
    "version": 3
   },
   "file_extension": ".py",
   "mimetype": "text/x-python",
   "name": "python",
   "nbconvert_exporter": "python",
   "pygments_lexer": "ipython3",
   "version": "3.9.0"
  }
 },
 "nbformat": 4,
 "nbformat_minor": 2
}
